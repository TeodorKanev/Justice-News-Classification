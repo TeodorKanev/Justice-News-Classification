{
 "cells": [
  {
   "cell_type": "code",
   "execution_count": 1,
   "metadata": {},
   "outputs": [],
   "source": [
    "import pandas as pd\n",
    "import numpy as np"
   ]
  },
  {
   "cell_type": "code",
   "execution_count": 2,
   "metadata": {},
   "outputs": [],
   "source": [
    "df = pd.read_csv('Data/model_data.csv')"
   ]
  },
  {
   "cell_type": "code",
   "execution_count": 3,
   "metadata": {},
   "outputs": [],
   "source": [
    "from sklearn.model_selection import train_test_split\n",
    "train, test = train_test_split(df, random_state=777, test_size=0.20, shuffle=True)"
   ]
  },
  {
   "cell_type": "code",
   "execution_count": 4,
   "metadata": {},
   "outputs": [],
   "source": [
    "train_text = train['Processed_Text']\n",
    "test_text = test['Processed_Text']"
   ]
  },
  {
   "cell_type": "code",
   "execution_count": 5,
   "metadata": {},
   "outputs": [],
   "source": [
    "from sklearn.feature_extraction.text import TfidfVectorizer\n",
    "vectorizer = TfidfVectorizer(strip_accents='unicode', analyzer='word', ngram_range=(1,1), norm='l2')\n",
    "vectorizer.fit(train_text)\n",
    "vectorizer.fit(test_text)\n",
    "x_train = vectorizer.transform(train_text)\n",
    "y_train = train.drop(labels = ['Processed_Text'], axis=1)\n",
    "x_test = vectorizer.transform(test_text)\n",
    "y_test = test.drop(labels = ['Processed_Text'], axis=1)"
   ]
  },
  {
   "cell_type": "code",
   "execution_count": 6,
   "metadata": {},
   "outputs": [],
   "source": [
    "def exact_match(y_test, prediction):\n",
    "    return accuracy_score(y_test, prediction)"
   ]
  },
  {
   "cell_type": "code",
   "execution_count": 7,
   "metadata": {},
   "outputs": [],
   "source": [
    "from sklearn.metrics import hamming_loss\n",
    "def hamming_score(y_test, prediction):\n",
    "    return hamming_loss(y_test, prediction)"
   ]
  },
  {
   "cell_type": "code",
   "execution_count": 16,
   "metadata": {},
   "outputs": [],
   "source": [
    "from sklearn.metrics import jaccard_score\n",
    "def jaccard(y_test, prediction):\n",
    "    return jaccard_score(y_test, prediction, average = 'samples')"
   ]
  },
  {
   "cell_type": "code",
   "execution_count": 28,
   "metadata": {},
   "outputs": [],
   "source": [
    "from sklearn.linear_model import LogisticRegression\n",
    "from sklearn.ensemble import RandomForestClassifier\n",
    "from sklearn.naive_bayes import MultinomialNB\n",
    "from sklearn.metrics import accuracy_score\n",
    "from sklearn.multioutput import MultiOutputClassifier"
   ]
  },
  {
   "cell_type": "code",
   "execution_count": 19,
   "metadata": {},
   "outputs": [],
   "source": [
    "lr_classifier = LogisticRegression(solver='sag', random_state = 7777, max_iter = 4000)\n",
    "multi_target_lr = MultiOutputClassifier(lr_classifier, n_jobs=1)\n",
    "lr_prediction = multi_target_lr.fit(x_train, y_train).predict(x_test);"
   ]
  },
  {
   "cell_type": "code",
   "execution_count": 20,
   "metadata": {},
   "outputs": [
    {
     "data": {
      "text/plain": [
       "0.48211243611584326"
      ]
     },
     "execution_count": 20,
     "metadata": {},
     "output_type": "execute_result"
    }
   ],
   "source": [
    "exact_match(y_test, lr_prediction)"
   ]
  },
  {
   "cell_type": "code",
   "execution_count": 21,
   "metadata": {},
   "outputs": [
    {
     "data": {
      "text/plain": [
       "0.014255631270111679"
      ]
     },
     "execution_count": 21,
     "metadata": {},
     "output_type": "execute_result"
    }
   ],
   "source": [
    "hamming_score(y_test, lr_prediction)"
   ]
  },
  {
   "cell_type": "code",
   "execution_count": 22,
   "metadata": {},
   "outputs": [
    {
     "data": {
      "text/plain": [
       "0.5611395040696574"
      ]
     },
     "execution_count": 22,
     "metadata": {},
     "output_type": "execute_result"
    }
   ],
   "source": [
    "jaccard(y_test, lr_prediction)"
   ]
  },
  {
   "cell_type": "code",
   "execution_count": 23,
   "metadata": {},
   "outputs": [],
   "source": [
    "rf_classifier = RandomForestClassifier(random_state=7777)\n",
    "multi_target_rf = MultiOutputClassifier(rf_classifier, n_jobs=1)\n",
    "rf_prediction = multi_target_rf.fit(x_train, y_train).predict(x_test)"
   ]
  },
  {
   "cell_type": "code",
   "execution_count": 24,
   "metadata": {},
   "outputs": [
    {
     "data": {
      "text/plain": [
       "0.5411697898921067"
      ]
     },
     "execution_count": 24,
     "metadata": {},
     "output_type": "execute_result"
    }
   ],
   "source": [
    "exact_match(y_test, rf_prediction)"
   ]
  },
  {
   "cell_type": "code",
   "execution_count": 25,
   "metadata": {},
   "outputs": [
    {
     "data": {
      "text/plain": [
       "0.012611205754306265"
      ]
     },
     "execution_count": 25,
     "metadata": {},
     "output_type": "execute_result"
    }
   ],
   "source": [
    "hamming_score(y_test, rf_prediction)"
   ]
  },
  {
   "cell_type": "code",
   "execution_count": 26,
   "metadata": {},
   "outputs": [
    {
     "data": {
      "text/plain": [
       "0.6257334847624455"
      ]
     },
     "execution_count": 26,
     "metadata": {},
     "output_type": "execute_result"
    }
   ],
   "source": [
    "jaccard(y_test, rf_prediction)"
   ]
  },
  {
   "cell_type": "code",
   "execution_count": 47,
   "metadata": {},
   "outputs": [],
   "source": [
    "nb_classifier = MultinomialNB(alpha = 1.0e-10)\n",
    "multi_target_nb = MultiOutputClassifier(nb_classifier, n_jobs=1)\n",
    "nb_prediction = multi_target_nb.fit(x_train, y_train).predict(x_test);"
   ]
  },
  {
   "cell_type": "code",
   "execution_count": 48,
   "metadata": {},
   "outputs": [
    {
     "data": {
      "text/plain": [
       "0.49233390119250425"
      ]
     },
     "execution_count": 48,
     "metadata": {},
     "output_type": "execute_result"
    }
   ],
   "source": [
    "exact_match(y_test, nb_prediction)"
   ]
  },
  {
   "cell_type": "code",
   "execution_count": 49,
   "metadata": {},
   "outputs": [
    {
     "data": {
      "text/plain": [
       "0.014149157675563127"
      ]
     },
     "execution_count": 49,
     "metadata": {},
     "output_type": "execute_result"
    }
   ],
   "source": [
    "hamming_score(y_test, nb_prediction)"
   ]
  },
  {
   "cell_type": "code",
   "execution_count": 50,
   "metadata": {},
   "outputs": [
    {
     "data": {
      "text/plain": [
       "0.5981071360969146"
      ]
     },
     "execution_count": 50,
     "metadata": {},
     "output_type": "execute_result"
    }
   ],
   "source": [
    "jaccard(y_test, nb_prediction)"
   ]
  },
  {
   "cell_type": "code",
   "execution_count": 55,
   "metadata": {},
   "outputs": [],
   "source": [
    "from sklearn.multioutput import ClassifierChain\n",
    "chain_lr = ClassifierChain(lr_classifier)\n",
    "chain_lr_prediction = chain_lr.fit(x_train, y_train).predict(x_test)"
   ]
  },
  {
   "cell_type": "code",
   "execution_count": 56,
   "metadata": {},
   "outputs": [
    {
     "data": {
      "text/plain": [
       "0.5212947189097104"
      ]
     },
     "execution_count": 56,
     "metadata": {},
     "output_type": "execute_result"
    }
   ],
   "source": [
    "exact_match(y_test, chain_lr_prediction)"
   ]
  },
  {
   "cell_type": "code",
   "execution_count": 57,
   "metadata": {},
   "outputs": [
    {
     "data": {
      "text/plain": [
       "0.01339201211432898"
      ]
     },
     "execution_count": 57,
     "metadata": {},
     "output_type": "execute_result"
    }
   ],
   "source": [
    "hamming_score(y_test, chain_lr_prediction)"
   ]
  },
  {
   "cell_type": "code",
   "execution_count": 58,
   "metadata": {},
   "outputs": [
    {
     "data": {
      "text/plain": [
       "0.5972932046185879"
      ]
     },
     "execution_count": 58,
     "metadata": {},
     "output_type": "execute_result"
    }
   ],
   "source": [
    "jaccard(y_test, chain_lr_prediction)"
   ]
  },
  {
   "cell_type": "code",
   "execution_count": 59,
   "metadata": {},
   "outputs": [],
   "source": [
    "chain_rf = ClassifierChain(rf_classifier)\n",
    "chain_rf_prediction = chain_rf.fit(x_train, y_train).predict(x_test)"
   ]
  },
  {
   "cell_type": "code",
   "execution_count": 60,
   "metadata": {},
   "outputs": [
    {
     "data": {
      "text/plain": [
       "0.5406019307211811"
      ]
     },
     "execution_count": 60,
     "metadata": {},
     "output_type": "execute_result"
    }
   ],
   "source": [
    "exact_match(y_test, chain_rf_prediction)"
   ]
  },
  {
   "cell_type": "code",
   "execution_count": 61,
   "metadata": {},
   "outputs": [
    {
     "data": {
      "text/plain": [
       "0.012552053757334848"
      ]
     },
     "execution_count": 61,
     "metadata": {},
     "output_type": "execute_result"
    }
   ],
   "source": [
    "hamming_score(y_test, chain_rf_prediction)"
   ]
  },
  {
   "cell_type": "code",
   "execution_count": 62,
   "metadata": {},
   "outputs": [
    {
     "data": {
      "text/plain": [
       "0.6247870528109029"
      ]
     },
     "execution_count": 62,
     "metadata": {},
     "output_type": "execute_result"
    }
   ],
   "source": [
    "jaccard(y_test, chain_rf_prediction)"
   ]
  },
  {
   "cell_type": "code",
   "execution_count": 63,
   "metadata": {},
   "outputs": [],
   "source": [
    "chain_nb = ClassifierChain(nb_classifier)\n",
    "chain_nb_prediction = chain_nb.fit(x_train, y_train).predict(x_test)"
   ]
  },
  {
   "cell_type": "code",
   "execution_count": 64,
   "metadata": {},
   "outputs": [
    {
     "data": {
      "text/plain": [
       "0.48779102782509937"
      ]
     },
     "execution_count": 64,
     "metadata": {},
     "output_type": "execute_result"
    }
   ],
   "source": [
    "exact_match(y_test, chain_nb_prediction)"
   ]
  },
  {
   "cell_type": "code",
   "execution_count": 65,
   "metadata": {},
   "outputs": [
    {
     "data": {
      "text/plain": [
       "0.014314783267083096"
      ]
     },
     "execution_count": 65,
     "metadata": {},
     "output_type": "execute_result"
    }
   ],
   "source": [
    "hamming_score(y_test, chain_nb_prediction)"
   ]
  },
  {
   "cell_type": "code",
   "execution_count": 66,
   "metadata": {},
   "outputs": [
    {
     "data": {
      "text/plain": [
       "0.6002366079878857"
      ]
     },
     "execution_count": 66,
     "metadata": {},
     "output_type": "execute_result"
    }
   ],
   "source": [
    "jaccard(y_test, chain_nb_prediction)"
   ]
  },
  {
   "cell_type": "code",
   "execution_count": 67,
   "metadata": {},
   "outputs": [],
   "source": [
    "key_list = list(vectorizer.vocabulary_.keys())\n",
    "val_list = list(vectorizer.vocabulary_.values())"
   ]
  },
  {
   "cell_type": "code",
   "execution_count": 92,
   "metadata": {},
   "outputs": [
    {
     "name": "stdout",
     "output_type": "stream",
     "text": [
      "'Tax': \n",
      "zuckerman\n",
      "ciraolo\n",
      "deputi\n",
      "refund\n",
      "return\n",
      "incom\n",
      "tax\n",
      "ir\n",
      "account\n",
      "bank\n",
      "\n",
      "'Coronavirus': \n",
      "ncdf\n",
      "sba\n",
      "ppp\n",
      "fraud\n",
      "pandem\n",
      "coronavirus\n",
      "loan\n",
      "covid\n",
      "19\n",
      "vaccin\n",
      "\n",
      "'False Claims Act': \n",
      "patient\n",
      "unit\n",
      "fha\n",
      "contract\n",
      "govern\n",
      "claim\n",
      "alleg\n",
      "settlement\n",
      "resolv\n",
      "fals\n",
      "\n",
      "'Health Care Fraud': \n",
      "strike\n",
      "care\n",
      "fraud\n",
      "medic\n",
      "medicar\n",
      "hhs\n",
      "oig\n",
      "patient\n",
      "medicaid\n",
      "health\n",
      "\n",
      "'Civil Rights': \n",
      "correct\n",
      "disabl\n",
      "constitut\n",
      "hous\n",
      "eric\n",
      "dreiband\n",
      "civil\n",
      "ada\n",
      "right\n",
      "discrimin\n",
      "\n",
      "'Hate Crimes': \n",
      "fire\n",
      "motiv\n",
      "cross\n",
      "man\n",
      "burn\n",
      "crime\n",
      "civil\n",
      "african\n",
      "right\n",
      "hate\n",
      "\n",
      "'Voting and Elections': \n",
      "poll\n",
      "candid\n",
      "committe\n",
      "elect\n",
      "registr\n",
      "voter\n",
      "polit\n",
      "campaign\n",
      "vote\n",
      "contribut\n",
      "\n",
      "'Environment': \n",
      "fish\n",
      "pollut\n",
      "natur\n",
      "clean\n",
      "epa\n",
      "water\n",
      "wildlif\n",
      "environment\n",
      "environ\n",
      "resourc\n",
      "\n",
      "'Human Trafficking': \n",
      "women\n",
      "harbor\n",
      "defend\n",
      "human\n",
      "minor\n",
      "victim\n",
      "prostitut\n",
      "traffick\n",
      "labor\n",
      "sex\n",
      "\n",
      "'Consumer Protection': \n",
      "product\n",
      "protect\n",
      "odomet\n",
      "fda\n",
      "consum\n",
      "branch\n",
      "civil\n",
      "drug\n",
      "food\n",
      "lotteri\n",
      "\n",
      "'Cyber Crime': \n",
      "network\n",
      "cyberstalk\n",
      "onlin\n",
      "malwar\n",
      "darknet\n",
      "victim\n",
      "cyber\n",
      "comput\n",
      "cryptocurr\n",
      "hack\n",
      "\n",
      "'Disability Rights': \n",
      "peopl\n",
      "lambert\n",
      "mental\n",
      "right\n",
      "paulo\n",
      "oh\n",
      "access\n",
      "ada\n",
      "disabl\n",
      "\n",
      "'Foreign Corruption': \n",
      "payment\n",
      "briberi\n",
      "venezuela\n",
      "pdvsa\n",
      "foreign\n",
      "bribe\n",
      "launder\n",
      "corrupt\n",
      "offici\n",
      "fcpa\n",
      "\n",
      "'Violent Crime': \n",
      "firearm\n",
      "violenc\n",
      "robberi\n",
      "crime\n",
      "racket\n",
      "member\n",
      "legend\n",
      "gang\n",
      "violent\n",
      "murder\n",
      "\n",
      "'Human Smuggling': \n",
      "nation\n",
      "smuggler\n",
      "unit\n",
      "border\n",
      "soto\n",
      "human\n",
      "hsi\n",
      "ect\n",
      "smuggl\n",
      "alien\n",
      "\n",
      "'Disaster Fraud': \n",
      "disaster\n",
      "fund\n",
      "disast\n",
      "fraud\n",
      "ncdf\n",
      "relief\n",
      "ppp\n",
      "hurrican\n",
      "loan\n",
      "\n",
      "'Securities: \n",
      "spoof\n",
      "commiss\n",
      "commod\n",
      "invest\n",
      "trade\n",
      "libor\n",
      "investor\n",
      "financi\n",
      "trader\n",
      "fraud\n",
      "\n",
      "'Commodities & Investment Fraud': \n",
      "market\n",
      "scheme\n",
      "trader\n",
      "commod\n",
      "invest\n",
      "financi\n",
      "trade\n",
      "fraud\n",
      "investor\n",
      "\n",
      "'Antitrust': \n",
      "delrahim\n",
      "acquisit\n",
      "fix\n",
      "merger\n",
      "price\n",
      "propos\n",
      "bid\n",
      "competit\n",
      "antitrust\n",
      "rig\n",
      "\n",
      "'Wildlife': \n",
      "lacey\n",
      "anim\n",
      "illeg\n",
      "harvest\n",
      "dog\n",
      "horn\n",
      "speci\n",
      "fish\n",
      "rhinocero\n",
      "wildlif\n",
      "\n",
      "'Counterterrorism': \n",
      "counterterror\n",
      "al\n",
      "bomb\n",
      "materi\n",
      "support\n",
      "isil\n",
      "isi\n",
      "terrorist\n",
      "terror\n",
      "attack\n",
      "\n",
      "'National Security': \n",
      "demer\n",
      "intellig\n",
      "chines\n",
      "nation\n",
      "china\n",
      "secur\n",
      "iran\n",
      "sanction\n",
      "carlin\n",
      "export\n",
      "\n",
      "'Public Corruption': \n",
      "fattah\n",
      "contract\n",
      "offici\n",
      "integr\n",
      "public\n",
      "arkansa\n",
      "bribe\n",
      "briberi\n",
      "former\n",
      "campaign\n",
      "\n",
      "'Labor & Employment': \n",
      "vii\n",
      "discrimin\n",
      "ier\n",
      "worker\n",
      "userra\n",
      "employ\n",
      "titl\n",
      "labor\n",
      "\n",
      "'Servicemembers Initiative': \n",
      "employ\n",
      "right\n",
      "elect\n",
      "servic\n",
      "member\n",
      "veteran\n",
      "militari\n",
      "scra\n",
      "userra\n",
      "servicememb\n",
      "\n",
      "'Counterintelligence and Export Control': \n",
      "secur\n",
      "classifi\n",
      "iranian\n",
      "counterintellig\n",
      "iran\n",
      "nation\n",
      "secret\n",
      "china\n",
      "export\n",
      "\n",
      "'Project Safe Childhood': \n",
      "ceo\n",
      "children\n",
      "safe\n",
      "project\n",
      "child\n",
      "childhood\n",
      "sexual\n",
      "exploit\n",
      "minor\n",
      "pornographi\n",
      "\n",
      "'Immigration': \n",
      "war\n",
      "illeg\n",
      "denatur\n",
      "osc\n",
      "immigr\n",
      "citizenship\n",
      "ice\n",
      "asylum\n",
      "alien\n",
      "natur\n",
      "\n",
      "'Opioids': \n",
      "pill\n",
      "heroin\n",
      "dea\n",
      "control\n",
      "prescript\n",
      "drug\n",
      "distribut\n",
      "fentanyl\n",
      "substanc\n",
      "opioid\n",
      "\n",
      "'Financial Fraud': \n",
      "benczkowski\n",
      "2019\n",
      "launder\n",
      "money\n",
      "princip\n",
      "loan\n",
      "zuckerman\n",
      "bank\n",
      "richard\n",
      "fraud\n",
      "\n",
      "'Drug Trafficking': \n",
      "distribut\n",
      "organ\n",
      "methamphetamin\n",
      "narcot\n",
      "mexico\n",
      "dea\n",
      "cartel\n",
      "traffick\n",
      "cocain\n",
      "drug\n",
      "\n",
      "'Office and Personnel Updates': \n",
      "agac\n",
      "committe\n",
      "loretta\n",
      "general\n",
      "departur\n",
      "lynch\n",
      "barr\n",
      "appoint\n",
      "attorney\n",
      "serv\n",
      "\n",
      "'Firearms Offenses': \n",
      "domest\n",
      "possess\n",
      "kindley\n",
      "violenc\n",
      "atf\n",
      "gun\n",
      "firearm\n",
      "\n",
      "'Grants': \n",
      "ovw\n",
      "fund\n",
      "communiti\n",
      "support\n",
      "violenc\n",
      "program\n",
      "cop\n",
      "ojp\n",
      "grant\n",
      "award\n",
      "\n",
      "'Project Safe Neighborhoods': \n",
      "drug\n",
      "baltimor\n",
      "gangster\n",
      "crime\n",
      "neighborhood\n",
      "gang\n",
      "violent\n",
      "psn\n",
      "\n",
      "'Bankruptcy': \n",
      "21\n",
      "program\n",
      "atrium\n",
      "homeown\n",
      "truste\n",
      "ustp\n",
      "debtor\n",
      "purdu\n",
      "region\n",
      "bankruptci\n",
      "\n",
      "'Indian Country Law and Justice': \n",
      "tap\n",
      "violenc\n",
      "alaska\n",
      "indigen\n",
      "navajo\n",
      "eagl\n",
      "tribal\n",
      "nativ\n",
      "tribe\n",
      "indian\n",
      "\n",
      "'Elder Justice': \n",
      "scam\n",
      "scheme\n",
      "mail\n",
      "fraud\n",
      "rica\n",
      "prize\n",
      "victim\n",
      "nurs\n",
      "elder\n",
      "costa\n",
      "\n",
      "'Prescription Drugs': \n",
      "generic\n",
      "medic\n",
      "pharmaceut\n",
      "opioid\n",
      "substanc\n",
      "prescript\n",
      "dea\n",
      "drug\n",
      "\n",
      "'Access to Justice': \n",
      "justic\n",
      "languag\n",
      "clemenc\n",
      "plaintiff\n",
      "holder\n",
      "access\n",
      "indig\n",
      "counsel\n",
      "system\n",
      "legal\n",
      "\n",
      "'Community Outreach': \n",
      "lynch\n",
      "mpd\n",
      "volunt\n",
      "transgend\n",
      "award\n",
      "tour\n",
      "crs\n",
      "communiti\n",
      "polic\n",
      "\n",
      "'Asset Forfeiture': \n",
      "1mdb\n",
      "forfeit\n",
      "madoff\n",
      "rabobank\n",
      "launder\n",
      "corrupt\n",
      "forfeitur\n",
      "asset\n",
      "union\n",
      "fund\n",
      "\n",
      "'Intellectual Property': \n",
      "task\n",
      "ccip\n",
      "trade\n",
      "secret\n",
      "copyright\n",
      "ip\n",
      "properti\n",
      "counterfeit\n",
      "infring\n",
      "intellectu\n",
      "\n",
      "'Identity Theft': \n",
      "check\n",
      "ciraolo\n",
      "puerto\n",
      "ident\n",
      "aggrav\n",
      "refund\n",
      "theft\n",
      "stolen\n",
      "\n",
      "'Operation Legend': \n",
      "firearms\n",
      "charg\n",
      "narcotics\n",
      "citi\n",
      "oper\n",
      "2020\n",
      "defend\n",
      "legend\n",
      "offenses\n",
      "\n",
      "'Mortgage Fraud': \n",
      "bank\n",
      "barclay\n",
      "moreno\n",
      "rmbs\n",
      "hud\n",
      "loan\n",
      "mortgag\n",
      "fha\n",
      "\n",
      "'Project Guardian': \n",
      "4473\n",
      "violent\n",
      "lombardo\n",
      "gun\n",
      "illeg\n",
      "crime\n",
      "firearm\n",
      "firearms\n",
      "atf\n",
      "\n",
      "'StopFraud': \n",
      "forc\n",
      "homeown\n",
      "sec\n",
      "investor\n",
      "loan\n",
      "mortgag\n",
      "lend\n",
      "financi\n",
      "fraud\n",
      "task\n",
      "\n"
     ]
    }
   ],
   "source": [
    "for (feature_index, feature) in enumerate (list(df.columns[1:])):\n",
    "    coefficients = chain_lr.estimators_[feature_index].coef_[0]\n",
    "    important_words_indexes = np.argpartition(coefficients, -10)[-10:]\n",
    "    print(feature + \": \")\n",
    "    for index in important_words_indexes:\n",
    "        if (index < len(val_list)):\n",
    "            print(key_list[val_list.index(index)])\n",
    "    print()"
   ]
  },
  {
   "cell_type": "code",
   "execution_count": null,
   "metadata": {},
   "outputs": [],
   "source": []
  }
 ],
 "metadata": {
  "kernelspec": {
   "display_name": "Python 3",
   "language": "python",
   "name": "python3"
  },
  "language_info": {
   "codemirror_mode": {
    "name": "ipython",
    "version": 3
   },
   "file_extension": ".py",
   "mimetype": "text/x-python",
   "name": "python",
   "nbconvert_exporter": "python",
   "pygments_lexer": "ipython3",
   "version": "3.6.9"
  }
 },
 "nbformat": 4,
 "nbformat_minor": 4
}
